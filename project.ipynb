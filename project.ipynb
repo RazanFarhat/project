{
 "cells": [
  {
   "cell_type": "code",
   "execution_count": 2,
   "id": "e1f6c5e7",
   "metadata": {},
   "outputs": [],
   "source": [
    "import fitz \n",
    "from langchain.text_splitter import RecursiveCharacterTextSplitter\n"
   ]
  },
  {
   "cell_type": "code",
   "execution_count": 3,
   "id": "4b5e295e",
   "metadata": {},
   "outputs": [],
   "source": [
    "def load_pdf(file_name):\n",
    "    doc = fitz.open(file_name)\n",
    "    text = \"\"\n",
    "    for page in doc:\n",
    "        text += page.get_text()\n",
    "    return text\n",
    "\n",
    "def split_text(text, chunk_size=500, chunk_overlap=100):\n",
    "    splitter = RecursiveCharacterTextSplitter(chunk_size=chunk_size, chunk_overlap=chunk_overlap)\n",
    "    return splitter.split_text(text)"
   ]
  },
  {
   "cell_type": "code",
   "execution_count": 6,
   "id": "8d49287a",
   "metadata": {},
   "outputs": [
    {
     "name": "stdout",
     "output_type": "stream",
     "text": [
      "✅ PDF file found. Proceeding...\n"
     ]
    }
   ],
   "source": [
    "import os\n",
    "\n",
    "pdf_path = \"ML.pdf\"\n",
    "if not os.path.exists(pdf_path):\n",
    "    print(\"❌ PDF not found. Make sure ML.pdf is in the same folder as this script.\")\n",
    "else:\n",
    "    print(\"✅ PDF file found. Proceeding...\")"
   ]
  },
  {
   "cell_type": "code",
   "execution_count": 7,
   "id": "021637f2",
   "metadata": {},
   "outputs": [],
   "source": [
    "from sentence_transformers import SentenceTransformer\n",
    "\n",
    "embedding_model = SentenceTransformer('all-MiniLM-L6-v2')\n",
    "\n",
    "def get_embeddings(chunks):\n",
    "    return embedding_model.encode(chunks, convert_to_tensor=True)\n"
   ]
  },
  {
   "cell_type": "code",
   "execution_count": 8,
   "id": "85703e77",
   "metadata": {},
   "outputs": [],
   "source": [
    "import chromadb\n",
    "from chromadb.config import Settings\n",
    "\n",
    "client = chromadb.Client(Settings(persist_directory=\"./chroma_db\", anonymized_telemetry=False))\n",
    "collection = client.get_or_create_collection(name=\"notes\")\n",
    "\n",
    "def store_chunks_in_chromadb(chunks):\n",
    "    for i, chunk in enumerate(chunks):\n",
    "        collection.add(\n",
    "            documents=[chunk],\n",
    "            ids=[f\"chunk_{i}\"]\n",
    "        )"
   ]
  },
  {
   "cell_type": "code",
   "execution_count": 9,
   "id": "3fa32ad2",
   "metadata": {},
   "outputs": [],
   "source": [
    "def retrieve_relevant_chunks(query, top_k=3):\n",
    "    query_embedding = embedding_model.encode(query).tolist()\n",
    "    results = collection.query(\n",
    "        query_embeddings=[query_embedding],\n",
    "        n_results=top_k\n",
    "    )\n",
    "    return results['documents'][0]"
   ]
  },
  {
   "cell_type": "code",
   "execution_count": 10,
   "id": "6fadd158",
   "metadata": {},
   "outputs": [],
   "source": [
    "import subprocess\n",
    "\n",
    "def query_ollama(context, question):\n",
    "    prompt = f\"Context:\\n{context}\\n\\nQuestion: {question}\\nAnswer:\"\n",
    "    result = subprocess.run([\"ollama\", \"run\", \"llama3\", prompt], capture_output=True, text=True)\n",
    "    return result.stdout.strip()"
   ]
  },
  {
   "cell_type": "code",
   "execution_count": 11,
   "id": "c2acb7c8",
   "metadata": {},
   "outputs": [],
   "source": [
    "def ask_question_about_pdf(pdf_path, user_question):\n",
    "    text = load_pdf(pdf_path)\n",
    "    chunks = split_text(text)\n",
    "    store_chunks_in_chromadb(chunks)\n",
    "    relevant_chunks = retrieve_relevant_chunks(user_question)\n",
    "    context = \"\\n\".join(relevant_chunks)\n",
    "    answer = query_ollama(context, user_question)\n",
    "    return answer"
   ]
  }
 ],
 "metadata": {
  "kernelspec": {
   "display_name": ".venv (3.13.5)",
   "language": "python",
   "name": "python3"
  },
  "language_info": {
   "codemirror_mode": {
    "name": "ipython",
    "version": 3
   },
   "file_extension": ".py",
   "mimetype": "text/x-python",
   "name": "python",
   "nbconvert_exporter": "python",
   "pygments_lexer": "ipython3",
   "version": "3.13.5"
  }
 },
 "nbformat": 4,
 "nbformat_minor": 5
}
